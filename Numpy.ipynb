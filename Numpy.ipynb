{
 "cells": [
  {
   "cell_type": "code",
   "execution_count": 3,
   "id": "22889c98-db36-4d55-91bd-447f9d882c55",
   "metadata": {},
   "outputs": [],
   "source": [
    "import numpy as np"
   ]
  },
  {
   "cell_type": "code",
   "execution_count": 3,
   "id": "ded3ed36-3745-44d9-ba4b-cefd9726ca56",
   "metadata": {},
   "outputs": [
    {
     "name": "stdout",
     "output_type": "stream",
     "text": [
      "[1 2 3 4 5 6]\n"
     ]
    }
   ],
   "source": [
    "n1 = np.array([1,2,3,4,5,6])  ## creating 1-D array\n",
    "print(n1)"
   ]
  },
  {
   "cell_type": "code",
   "execution_count": 7,
   "id": "523f472f-d122-45f3-b4ae-3402e030e1cc",
   "metadata": {},
   "outputs": [
    {
     "name": "stdout",
     "output_type": "stream",
     "text": [
      "[[2 3 4 5 6]\n",
      " [1 2 3 4 5]]\n"
     ]
    }
   ],
   "source": [
    "n2 = np.array([[2,3,4,5,6],[1,2,3,4,5]]) ##creating 2-D array\n",
    "print(n2)"
   ]
  },
  {
   "cell_type": "code",
   "execution_count": 11,
   "id": "26b239c9-2298-4942-87dd-bee238ba8c6c",
   "metadata": {},
   "outputs": [
    {
     "name": "stdout",
     "output_type": "stream",
     "text": [
      "[[0. 0. 0.]\n",
      " [0. 0. 0.]]\n"
     ]
    }
   ],
   "source": [
    "n3 = np.zeros((2,3)) ##initializing numpy array with zero\n",
    "print(n3)"
   ]
  },
  {
   "cell_type": "code",
   "execution_count": 13,
   "id": "c4ced078-9ac5-4d9e-aa46-17b9660c6735",
   "metadata": {},
   "outputs": [
    {
     "name": "stdout",
     "output_type": "stream",
     "text": [
      "[[4 4 4]\n",
      " [4 4 4]\n",
      " [4 4 4]]\n"
     ]
    }
   ],
   "source": [
    "n4 = np.full((3,3),4)  ##initializing numpy with same number\n",
    "print(n4)"
   ]
  },
  {
   "cell_type": "code",
   "execution_count": 19,
   "id": "b8d86125-f57c-493c-bf42-47b4dbd81116",
   "metadata": {},
   "outputs": [],
   "source": [
    "n5 = np.arange(5,15,5)  ##initializing numpy within a range"
   ]
  },
  {
   "cell_type": "code",
   "execution_count": 21,
   "id": "8f50633c-1053-4f7f-9806-93e7a1c3feb6",
   "metadata": {},
   "outputs": [
    {
     "name": "stdout",
     "output_type": "stream",
     "text": [
      "[ 5 10]\n"
     ]
    }
   ],
   "source": [
    "print(n5)"
   ]
  },
  {
   "cell_type": "code",
   "execution_count": 23,
   "id": "6f6bb53b-f52d-497f-9fbc-1edd28c15759",
   "metadata": {},
   "outputs": [],
   "source": [
    "n6 = np.random.randint(1,100,3)  ##initializing numpy array with random number"
   ]
  },
  {
   "cell_type": "code",
   "execution_count": 25,
   "id": "3fa66259-dbca-419a-a520-13df343c50c2",
   "metadata": {},
   "outputs": [
    {
     "name": "stdout",
     "output_type": "stream",
     "text": [
      "[20 99 91]\n"
     ]
    }
   ],
   "source": [
    "print(n6)"
   ]
  },
  {
   "cell_type": "code",
   "execution_count": 27,
   "id": "3725ac3f-da26-4a69-9802-0fdc95318586",
   "metadata": {},
   "outputs": [
    {
     "data": {
      "text/plain": [
       "(3,)"
      ]
     },
     "execution_count": 27,
     "metadata": {},
     "output_type": "execute_result"
    }
   ],
   "source": [
    "n6.shape"
   ]
  },
  {
   "cell_type": "code",
   "execution_count": 29,
   "id": "47592718-00ee-4003-9f3a-783b54ec1512",
   "metadata": {},
   "outputs": [
    {
     "data": {
      "text/plain": [
       "(3, 3)"
      ]
     },
     "execution_count": 29,
     "metadata": {},
     "output_type": "execute_result"
    }
   ],
   "source": [
    "n4.shape"
   ]
  },
  {
   "cell_type": "code",
   "execution_count": 31,
   "id": "df32e337-e82b-4f3f-8c4c-4de51507f5b6",
   "metadata": {},
   "outputs": [
    {
     "data": {
      "text/plain": [
       "(6,)"
      ]
     },
     "execution_count": 31,
     "metadata": {},
     "output_type": "execute_result"
    }
   ],
   "source": [
    "n1.shape"
   ]
  },
  {
   "cell_type": "code",
   "execution_count": 33,
   "id": "6c7d6c2d-9f4b-4aa0-a2a0-9d67ac463b56",
   "metadata": {},
   "outputs": [],
   "source": [
    "n1 = np.random.randint(1,100,5)\n",
    "n2 = np.random.randint(1,100,5)"
   ]
  },
  {
   "cell_type": "code",
   "execution_count": 35,
   "id": "56e68d25-7ddf-43bd-a9a7-1210d7fafe5c",
   "metadata": {},
   "outputs": [
    {
     "name": "stdout",
     "output_type": "stream",
     "text": [
      "[91 25 26 55 52]\n",
      "[43 80 28 87 38]\n"
     ]
    }
   ],
   "source": [
    "print(n1)\n",
    "print(n2)"
   ]
  },
  {
   "cell_type": "code",
   "execution_count": 39,
   "id": "d5014e57-d32d-426f-855d-776259a6aa35",
   "metadata": {},
   "outputs": [
    {
     "data": {
      "text/plain": [
       "array([[91, 25, 26, 55, 52],\n",
       "       [43, 80, 28, 87, 38]])"
      ]
     },
     "execution_count": 39,
     "metadata": {},
     "output_type": "execute_result"
    }
   ],
   "source": [
    "np.vstack((n1,n2)) ## joining numpy arary n1 and n2 vertically"
   ]
  },
  {
   "cell_type": "code",
   "execution_count": 41,
   "id": "b981f3cf-b559-4bc6-a0a1-a31c972cc540",
   "metadata": {},
   "outputs": [
    {
     "data": {
      "text/plain": [
       "array([91, 25, 26, 55, 52, 43, 80, 28, 87, 38])"
      ]
     },
     "execution_count": 41,
     "metadata": {},
     "output_type": "execute_result"
    }
   ],
   "source": [
    "np.hstack((n1,n2))   ## joining numpy array n1 and n2 horizontally"
   ]
  },
  {
   "cell_type": "code",
   "execution_count": 43,
   "id": "2e43c712-c716-4564-affe-1fdea43b2007",
   "metadata": {},
   "outputs": [
    {
     "data": {
      "text/plain": [
       "array([[91, 43],\n",
       "       [25, 80],\n",
       "       [26, 28],\n",
       "       [55, 87],\n",
       "       [52, 38]])"
      ]
     },
     "execution_count": 43,
     "metadata": {},
     "output_type": "execute_result"
    }
   ],
   "source": [
    "np.column_stack((n1,n2))  ## joining using column stack"
   ]
  },
  {
   "cell_type": "code",
   "execution_count": 45,
   "id": "3ef98807-9dbc-43f6-b526-b6b834449304",
   "metadata": {},
   "outputs": [
    {
     "data": {
      "text/plain": [
       "array([], dtype=int32)"
      ]
     },
     "execution_count": 45,
     "metadata": {},
     "output_type": "execute_result"
    }
   ],
   "source": [
    "np.intersect1d(n1,n2)"
   ]
  },
  {
   "cell_type": "code",
   "execution_count": 47,
   "id": "927cc509-52a8-463f-830a-4b2e6c3a124f",
   "metadata": {},
   "outputs": [
    {
     "data": {
      "text/plain": [
       "array([25, 26, 52, 55, 91])"
      ]
     },
     "execution_count": 47,
     "metadata": {},
     "output_type": "execute_result"
    }
   ],
   "source": [
    "np.setdiff1d(n1,n2)"
   ]
  },
  {
   "cell_type": "code",
   "execution_count": 49,
   "id": "7bbbff7f-aa7c-41e1-b9e1-9d9d4481a05b",
   "metadata": {},
   "outputs": [
    {
     "data": {
      "text/plain": [
       "array([28, 38, 43, 80, 87])"
      ]
     },
     "execution_count": 49,
     "metadata": {},
     "output_type": "execute_result"
    }
   ],
   "source": [
    "np.setdiff1d(n2,n1)"
   ]
  },
  {
   "cell_type": "code",
   "execution_count": 57,
   "id": "e6692f07-7a50-4d89-ae72-0188194447b9",
   "metadata": {},
   "outputs": [
    {
     "data": {
      "text/plain": [
       "20"
      ]
     },
     "execution_count": 57,
     "metadata": {},
     "output_type": "execute_result"
    }
   ],
   "source": [
    "n3 = np.array([1,2,3,4])\n",
    "n4 = np.array([1,2,3,4])\n",
    "np.sum([n3,n4])"
   ]
  },
  {
   "cell_type": "code",
   "execution_count": 59,
   "id": "1c1ef86e-c0b1-4c02-ad93-7b7ce435a562",
   "metadata": {},
   "outputs": [
    {
     "data": {
      "text/plain": [
       "array([10, 10])"
      ]
     },
     "execution_count": 59,
     "metadata": {},
     "output_type": "execute_result"
    }
   ],
   "source": [
    "np.sum([n3,n4],axis = 1)"
   ]
  },
  {
   "cell_type": "code",
   "execution_count": 61,
   "id": "d2866c3f-f3ba-4706-a939-052b376c4a07",
   "metadata": {},
   "outputs": [
    {
     "data": {
      "text/plain": [
       "array([2, 4, 6, 8])"
      ]
     },
     "execution_count": 61,
     "metadata": {},
     "output_type": "execute_result"
    }
   ],
   "source": [
    "np.sum([n3,n4],axis = 0)"
   ]
  },
  {
   "cell_type": "code",
   "execution_count": 63,
   "id": "96e31411-8f3f-41bf-8999-5d0b5990fcf9",
   "metadata": {},
   "outputs": [],
   "source": [
    "## Numpy Math function\n"
   ]
  },
  {
   "cell_type": "code",
   "execution_count": 69,
   "id": "2c5b35ec-1f67-4f11-86d0-effb79aa6e7a",
   "metadata": {},
   "outputs": [
    {
     "data": {
      "text/plain": [
       "2.5"
      ]
     },
     "execution_count": 69,
     "metadata": {},
     "output_type": "execute_result"
    }
   ],
   "source": [
    "##Mean\n",
    "np.mean(n3)\n"
   ]
  },
  {
   "cell_type": "code",
   "execution_count": 71,
   "id": "59de53a7-cb5a-4a51-89f2-a0c0a0aa1053",
   "metadata": {},
   "outputs": [
    {
     "data": {
      "text/plain": [
       "1.118033988749895"
      ]
     },
     "execution_count": 71,
     "metadata": {},
     "output_type": "execute_result"
    }
   ],
   "source": [
    "np.std(n3)\n",
    "\n"
   ]
  },
  {
   "cell_type": "code",
   "execution_count": 73,
   "id": "2abe74de-ba2d-46d3-82a1-450c591e9b92",
   "metadata": {},
   "outputs": [
    {
     "data": {
      "text/plain": [
       "2.5"
      ]
     },
     "execution_count": 73,
     "metadata": {},
     "output_type": "execute_result"
    }
   ],
   "source": [
    "np.median(n3)"
   ]
  },
  {
   "cell_type": "markdown",
   "id": "a1101250-7efc-4de2-834f-3d011fa7515d",
   "metadata": {},
   "source": []
  },
  {
   "cell_type": "code",
   "execution_count": 11,
   "id": "5fab07dc-1ff1-41ce-b597-2d22de286ed6",
   "metadata": {},
   "outputs": [
    {
     "data": {
      "text/plain": [
       "array([[1, 2],\n",
       "       [3, 4]])"
      ]
     },
     "execution_count": 11,
     "metadata": {},
     "output_type": "execute_result"
    }
   ],
   "source": [
    "a = np.arange(1,5).reshape(2,2)\n",
    "a\n"
   ]
  },
  {
   "cell_type": "code",
   "execution_count": 13,
   "id": "f8b7e0a6-7c15-4ed7-9d02-0cdee93cbb76",
   "metadata": {},
   "outputs": [],
   "source": [
    "a = np.arange(1,10).reshape(3,3)"
   ]
  },
  {
   "cell_type": "code",
   "execution_count": 15,
   "id": "a5bca0db-2cca-4d36-975b-ba7bde0339fb",
   "metadata": {},
   "outputs": [
    {
     "data": {
      "text/plain": [
       "array([[1, 2, 3],\n",
       "       [4, 5, 6],\n",
       "       [7, 8, 9]])"
      ]
     },
     "execution_count": 15,
     "metadata": {},
     "output_type": "execute_result"
    }
   ],
   "source": [
    "a"
   ]
  },
  {
   "cell_type": "code",
   "execution_count": 25,
   "id": "8287168a-bf00-412d-842a-8b2e89130e1c",
   "metadata": {},
   "outputs": [],
   "source": [
    "n1 = np.arange(1,10).reshape(3,3)\n",
    "n2 = np.arange(11,20).reshape(3,3)"
   ]
  },
  {
   "cell_type": "code",
   "execution_count": 27,
   "id": "8cb46890-c61c-4a6a-9001-fed284f1ab50",
   "metadata": {},
   "outputs": [
    {
     "data": {
      "text/plain": [
       "array([[11, 12, 13],\n",
       "       [14, 15, 16],\n",
       "       [17, 18, 19]])"
      ]
     },
     "execution_count": 27,
     "metadata": {},
     "output_type": "execute_result"
    }
   ],
   "source": [
    "n1\n",
    "n2"
   ]
  },
  {
   "cell_type": "code",
   "execution_count": 29,
   "id": "7c08f54a-8389-4bb6-91fd-f3bcd810b414",
   "metadata": {},
   "outputs": [
    {
     "data": {
      "text/plain": [
       "array([[11, 12, 13],\n",
       "       [14, 15, 16],\n",
       "       [17, 18, 19]])"
      ]
     },
     "execution_count": 29,
     "metadata": {},
     "output_type": "execute_result"
    }
   ],
   "source": [
    "n2"
   ]
  },
  {
   "cell_type": "code",
   "execution_count": 31,
   "id": "330f8162-7507-48ef-b083-5780f84e5abf",
   "metadata": {},
   "outputs": [
    {
     "data": {
      "text/plain": [
       "array([[1, 2, 3],\n",
       "       [4, 5, 6],\n",
       "       [7, 8, 9]])"
      ]
     },
     "execution_count": 31,
     "metadata": {},
     "output_type": "execute_result"
    }
   ],
   "source": [
    "n1"
   ]
  },
  {
   "cell_type": "code",
   "execution_count": 35,
   "id": "2973684b-1ec0-48b1-b575-950ef2c863ec",
   "metadata": {},
   "outputs": [
    {
     "data": {
      "text/plain": [
       "array([[ 1,  2,  3],\n",
       "       [ 4,  5,  6],\n",
       "       [ 7,  8,  9],\n",
       "       [11, 12, 13],\n",
       "       [14, 15, 16],\n",
       "       [17, 18, 19]])"
      ]
     },
     "execution_count": 35,
     "metadata": {},
     "output_type": "execute_result"
    }
   ],
   "source": [
    "np.vstack((n1,n2))"
   ]
  },
  {
   "cell_type": "code",
   "execution_count": 37,
   "id": "8a309e31-94f9-440f-a50b-8b8366b59227",
   "metadata": {},
   "outputs": [
    {
     "data": {
      "text/plain": [
       "array([[ 1,  2,  3, 11, 12, 13],\n",
       "       [ 4,  5,  6, 14, 15, 16],\n",
       "       [ 7,  8,  9, 17, 18, 19]])"
      ]
     },
     "execution_count": 37,
     "metadata": {},
     "output_type": "execute_result"
    }
   ],
   "source": [
    "np.hstack((n1,n2))"
   ]
  },
  {
   "cell_type": "code",
   "execution_count": 39,
   "id": "c3a9b0f0-eda8-473c-adab-2c9114cf7807",
   "metadata": {},
   "outputs": [
    {
     "data": {
      "text/plain": [
       "array([[ 1,  2,  3,  4,  5],\n",
       "       [ 6,  7,  8,  9, 10],\n",
       "       [11, 12, 13, 14, 15],\n",
       "       [16, 17, 18, 19, 20]])"
      ]
     },
     "execution_count": 39,
     "metadata": {},
     "output_type": "execute_result"
    }
   ],
   "source": [
    "a = np.arange(1,21).reshape(4,5)\n",
    "a"
   ]
  },
  {
   "cell_type": "code",
   "execution_count": 43,
   "id": "a10e1256-475d-4372-99a9-6ab3cff21788",
   "metadata": {},
   "outputs": [
    {
     "data": {
      "text/plain": [
       "[array([[ 1,  2,  3,  4,  5],\n",
       "        [ 6,  7,  8,  9, 10]]),\n",
       " array([[11, 12, 13, 14, 15],\n",
       "        [16, 17, 18, 19, 20]])]"
      ]
     },
     "execution_count": 43,
     "metadata": {},
     "output_type": "execute_result"
    }
   ],
   "source": [
    "np.vsplit(a,2)"
   ]
  },
  {
   "cell_type": "code",
   "execution_count": null,
   "id": "7562e83f-be4f-4a83-ad34-6d398b083081",
   "metadata": {},
   "outputs": [],
   "source": []
  },
  {
   "cell_type": "code",
   "execution_count": 49,
   "id": "7ed44554-26b6-48af-bb8b-29452449c4cf",
   "metadata": {},
   "outputs": [
    {
     "data": {
      "text/plain": [
       "[array([[ 1,  2,  3,  4,  5],\n",
       "        [ 6,  7,  8,  9, 10],\n",
       "        [11, 12, 13, 14, 15],\n",
       "        [16, 17, 18, 19, 20]])]"
      ]
     },
     "execution_count": 49,
     "metadata": {},
     "output_type": "execute_result"
    }
   ],
   "source": [
    "np.hsplit(a,1)"
   ]
  },
  {
   "cell_type": "code",
   "execution_count": 51,
   "id": "61df7dc3-bde0-4e88-9392-ac59f7e196d8",
   "metadata": {},
   "outputs": [
    {
     "data": {
      "text/plain": [
       "array([[ 0,  1],\n",
       "       [ 2,  3],\n",
       "       [ 4,  5],\n",
       "       [ 6,  7],\n",
       "       [ 8,  9],\n",
       "       [10, 11],\n",
       "       [12, 13],\n",
       "       [14, 15],\n",
       "       [16, 17],\n",
       "       [18, 19]])"
      ]
     },
     "execution_count": 51,
     "metadata": {},
     "output_type": "execute_result"
    }
   ],
   "source": [
    "a= np.arange(0,20).reshape(10,2)\n",
    "a"
   ]
  },
  {
   "cell_type": "code",
   "execution_count": 55,
   "id": "a6b9a873-8ba3-46d9-b146-489c4a652d3e",
   "metadata": {},
   "outputs": [
    {
     "data": {
      "text/plain": [
       "[array([[0, 1],\n",
       "        [2, 3],\n",
       "        [4, 5],\n",
       "        [6, 7],\n",
       "        [8, 9]]),\n",
       " array([[10, 11],\n",
       "        [12, 13],\n",
       "        [14, 15],\n",
       "        [16, 17],\n",
       "        [18, 19]])]"
      ]
     },
     "execution_count": 55,
     "metadata": {},
     "output_type": "execute_result"
    }
   ],
   "source": [
    "np.vsplit(a,2)"
   ]
  },
  {
   "cell_type": "code",
   "execution_count": 57,
   "id": "ecc8808d-2da1-4b26-b72a-868652e27f87",
   "metadata": {},
   "outputs": [
    {
     "data": {
      "text/plain": [
       "[array([[ 0],\n",
       "        [ 2],\n",
       "        [ 4],\n",
       "        [ 6],\n",
       "        [ 8],\n",
       "        [10],\n",
       "        [12],\n",
       "        [14],\n",
       "        [16],\n",
       "        [18]]),\n",
       " array([[ 1],\n",
       "        [ 3],\n",
       "        [ 5],\n",
       "        [ 7],\n",
       "        [ 9],\n",
       "        [11],\n",
       "        [13],\n",
       "        [15],\n",
       "        [17],\n",
       "        [19]])]"
      ]
     },
     "execution_count": 57,
     "metadata": {},
     "output_type": "execute_result"
    }
   ],
   "source": [
    "np.hsplit(a,2)"
   ]
  },
  {
   "cell_type": "code",
   "execution_count": 59,
   "id": "04edff70-6427-4501-977a-83c20957a690",
   "metadata": {},
   "outputs": [
    {
     "data": {
      "text/plain": [
       "array([[0, 1],\n",
       "       [2, 3],\n",
       "       [4, 5],\n",
       "       [6, 7],\n",
       "       [8, 9]])"
      ]
     },
     "execution_count": 59,
     "metadata": {},
     "output_type": "execute_result"
    }
   ],
   "source": [
    "result = np.vsplit(a,2)\n",
    "result[0]"
   ]
  },
  {
   "cell_type": "code",
   "execution_count": 63,
   "id": "54e586c2-181a-41d5-a70f-290ffd8a1046",
   "metadata": {},
   "outputs": [
    {
     "data": {
      "text/plain": [
       "array([[ 1],\n",
       "       [ 3],\n",
       "       [ 5],\n",
       "       [ 7],\n",
       "       [ 9],\n",
       "       [11],\n",
       "       [13],\n",
       "       [15],\n",
       "       [17],\n",
       "       [19]])"
      ]
     },
     "execution_count": 63,
     "metadata": {},
     "output_type": "execute_result"
    }
   ],
   "source": [
    "result = np.hsplit(a,2)\n",
    "result[1]"
   ]
  },
  {
   "cell_type": "code",
   "execution_count": null,
   "id": "10c5d907-05ea-4bc8-8c46-5851fa068728",
   "metadata": {},
   "outputs": [],
   "source": []
  }
 ],
 "metadata": {
  "kernelspec": {
   "display_name": "Python 3 (ipykernel)",
   "language": "python",
   "name": "python3"
  },
  "language_info": {
   "codemirror_mode": {
    "name": "ipython",
    "version": 3
   },
   "file_extension": ".py",
   "mimetype": "text/x-python",
   "name": "python",
   "nbconvert_exporter": "python",
   "pygments_lexer": "ipython3",
   "version": "3.12.7"
  }
 },
 "nbformat": 4,
 "nbformat_minor": 5
}
